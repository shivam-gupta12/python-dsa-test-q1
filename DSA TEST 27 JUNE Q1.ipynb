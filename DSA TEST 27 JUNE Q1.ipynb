{
 "cells": [
  {
   "cell_type": "code",
   "execution_count": 1,
   "metadata": {},
   "outputs": [],
   "source": [
    "def moveZeroes(nums):\n",
    "    \"\"\"\n",
    "    Moves all zeroes to the end of the given array while maintaining the relative order of non-zero elements.\n",
    "    \"\"\"\n",
    "    # Initialize a pointer to keep track of the position where the next non-zero element should be placed\n",
    "    next_non_zero = 0\n",
    "\n",
    "    # Iterate through the array\n",
    "    for num in nums:\n",
    "        # If the current element is non-zero, move it to the next_non_zero position\n",
    "        if num != 0:\n",
    "            nums[next_non_zero] = num\n",
    "            next_non_zero += 1\n",
    "\n",
    "    # Fill the remaining positions from next_non_zero onwards with zeroes\n",
    "    while next_non_zero < len(nums):\n",
    "        nums[next_non_zero] = 0\n",
    "        next_non_zero += 1\n",
    "\n",
    "    return nums\n"
   ]
  },
  {
   "cell_type": "code",
   "execution_count": 3,
   "metadata": {},
   "outputs": [
    {
     "data": {
      "text/plain": [
       "[1, 3, 12, 0, 0]"
      ]
     },
     "execution_count": 3,
     "metadata": {},
     "output_type": "execute_result"
    }
   ],
   "source": [
    "nums = [0,1,0,3,12]\n",
    "moveZeroes(nums)\n"
   ]
  },
  {
   "cell_type": "code",
   "execution_count": null,
   "metadata": {},
   "outputs": [],
   "source": []
  }
 ],
 "metadata": {
  "kernelspec": {
   "display_name": "my-env",
   "language": "python",
   "name": "python3"
  },
  "language_info": {
   "codemirror_mode": {
    "name": "ipython",
    "version": 3
   },
   "file_extension": ".py",
   "mimetype": "text/x-python",
   "name": "python",
   "nbconvert_exporter": "python",
   "pygments_lexer": "ipython3",
   "version": "3.9.16"
  },
  "orig_nbformat": 4
 },
 "nbformat": 4,
 "nbformat_minor": 2
}
